{
 "cells": [
  {
   "cell_type": "markdown",
   "metadata": {},
   "source": [
    "# Flight Delay Prediction\n",
    "## Adura ABIONA, PhD (UNSW)\n",
    "### 8 March, 2017"
   ]
  },
  {
   "cell_type": "markdown",
   "metadata": {},
   "source": [
    "## Introduction\n",
    "\n",
    "This work is based on the Final Challenge of *DAT203.2x Principles of Machine Learning* course in **Microsoft Professional Program in Data Science(MPP-DS).** In the challenge, we were requested to predict whether a scheduled passenger flight is delayed or not using a binary-classifier.  \n",
    "\n",
    "However, in this project, I will be using regressor of  gradient boosted decision trees to predict flight delay time in minutes (which can be negative). In particular, I will use XGBoost. It is an algorithm that has recently been dominating applied machine learning and [**Kaggle competitions**](https://www.kaggle.com/competitions) for structured data.\n",
    "\n",
    "[**XGBoost**](http://xgboost.readthedocs.io/en/latest/model.html) is an implementation of gradient boosted decision trees designed for speed and performance. [**Szilard Pafka's excellent benchmark**](https://github.com/szilard/benchm-ml) of a variety of machine learning libraries attest to XGBoost fast computation speed."
   ]
  },
  {
   "cell_type": "markdown",
   "metadata": {},
   "source": [
    "### Dataset Information\n",
    "The dataset contains flight delay data for the period April-October 2013.The data was pre-processed as follows:\n",
    "\n",
    "Filtered to include only the 70 busiest airports in the continental United States.\n",
    "For canceled flights, relabeled as delayed by more than 15 mins.\n",
    "Filtered out diverted flights.\n",
    "\n",
    "### Airport Codes Dataset\n",
    "The final dataset used in the experiment contains one row for each U.S. airport, including the airport ID number, airport name, the city, and state (columns: *airport_id*, city, state, name).\n",
    "\n",
    " [**For more information on the data and its pre-processing**](https://gallery.cortanaintelligence.com/Experiment/837e2095ce784f1ba5ac623a60232027).\n"
   ]
  },
  {
   "cell_type": "code",
   "execution_count": 1,
   "metadata": {
    "scrolled": true
   },
   "outputs": [
    {
     "name": "stdout",
     "output_type": "stream",
     "text": [
      "0.18.1\n"
     ]
    }
   ],
   "source": [
    "import glob, os, string\n",
    "import numpy as np\n",
    "import pandas as pd\n",
    "import matplotlib\n",
    "import matplotlib.pyplot as plt\n",
    "matplotlib.style.use('ggplot')\n",
    "%matplotlib inline \n",
    "print(pd.__version__)\n",
    "\n",
    "import seaborn as sns  # Seaborn, useful for graphics\n",
    "# JB's favorite Seaborn settings for notebooks\n",
    "rc = {'lines.linewidth': 2, \n",
    "      'axes.labelsize': 18, \n",
    "      'axes.titlesize': 18, \n",
    "      'axes.facecolor': 'DFDFE5'}\n",
    "sns.set_context('notebook', rc=rc)\n",
    "sns.set_style('darkgrid', rc=rc)\n",
    "# This Function takes as input a custom palette\n",
    "flatui = [\"#9b59b6\", \"#3498db\", \"#95a5a6\", \"#e74c3c\", \"#34495e\", \"#2ecc71\"]"
   ]
  },
  {
   "cell_type": "markdown",
   "metadata": {},
   "source": [
    "**The dataset for this project is split into two because its size exceeds the Github limit of 100 MB.**"
   ]
  },
  {
   "cell_type": "code",
   "execution_count": 2,
   "metadata": {},
   "outputs": [
    {
     "name": "stdout",
     "output_type": "stream",
     "text": [
      "(1359709, 14)\n",
      "(1359709, 14)\n",
      "(2719418, 14)\n"
     ]
    },
    {
     "data": {
      "text/html": [
       "<div>\n",
       "<table border=\"1\" class=\"dataframe\">\n",
       "  <thead>\n",
       "    <tr style=\"text-align: right;\">\n",
       "      <th></th>\n",
       "      <th>Year</th>\n",
       "      <th>Month</th>\n",
       "      <th>DayofMonth</th>\n",
       "      <th>DayOfWeek</th>\n",
       "      <th>Carrier</th>\n",
       "      <th>OriginAirportID</th>\n",
       "      <th>DestAirportID</th>\n",
       "      <th>CRSDepTime</th>\n",
       "      <th>DepDelay</th>\n",
       "      <th>DepDel15</th>\n",
       "      <th>CRSArrTime</th>\n",
       "      <th>ArrDelay</th>\n",
       "      <th>ArrDel15</th>\n",
       "      <th>Cancelled</th>\n",
       "    </tr>\n",
       "  </thead>\n",
       "  <tbody>\n",
       "    <tr>\n",
       "      <th>0</th>\n",
       "      <td>2013</td>\n",
       "      <td>4</td>\n",
       "      <td>19</td>\n",
       "      <td>5</td>\n",
       "      <td>DL</td>\n",
       "      <td>11433</td>\n",
       "      <td>13303</td>\n",
       "      <td>837</td>\n",
       "      <td>-3.0</td>\n",
       "      <td>0.0</td>\n",
       "      <td>1138</td>\n",
       "      <td>1.0</td>\n",
       "      <td>0.0</td>\n",
       "      <td>0.0</td>\n",
       "    </tr>\n",
       "    <tr>\n",
       "      <th>1</th>\n",
       "      <td>2013</td>\n",
       "      <td>4</td>\n",
       "      <td>19</td>\n",
       "      <td>5</td>\n",
       "      <td>DL</td>\n",
       "      <td>14869</td>\n",
       "      <td>12478</td>\n",
       "      <td>1705</td>\n",
       "      <td>0.0</td>\n",
       "      <td>0.0</td>\n",
       "      <td>2336</td>\n",
       "      <td>-8.0</td>\n",
       "      <td>0.0</td>\n",
       "      <td>0.0</td>\n",
       "    </tr>\n",
       "    <tr>\n",
       "      <th>2</th>\n",
       "      <td>2013</td>\n",
       "      <td>4</td>\n",
       "      <td>19</td>\n",
       "      <td>5</td>\n",
       "      <td>DL</td>\n",
       "      <td>14057</td>\n",
       "      <td>14869</td>\n",
       "      <td>600</td>\n",
       "      <td>-4.0</td>\n",
       "      <td>0.0</td>\n",
       "      <td>851</td>\n",
       "      <td>-15.0</td>\n",
       "      <td>0.0</td>\n",
       "      <td>0.0</td>\n",
       "    </tr>\n",
       "    <tr>\n",
       "      <th>3</th>\n",
       "      <td>2013</td>\n",
       "      <td>4</td>\n",
       "      <td>19</td>\n",
       "      <td>5</td>\n",
       "      <td>DL</td>\n",
       "      <td>15016</td>\n",
       "      <td>11433</td>\n",
       "      <td>1630</td>\n",
       "      <td>28.0</td>\n",
       "      <td>1.0</td>\n",
       "      <td>1903</td>\n",
       "      <td>24.0</td>\n",
       "      <td>1.0</td>\n",
       "      <td>0.0</td>\n",
       "    </tr>\n",
       "    <tr>\n",
       "      <th>4</th>\n",
       "      <td>2013</td>\n",
       "      <td>4</td>\n",
       "      <td>19</td>\n",
       "      <td>5</td>\n",
       "      <td>DL</td>\n",
       "      <td>11193</td>\n",
       "      <td>12892</td>\n",
       "      <td>1615</td>\n",
       "      <td>-6.0</td>\n",
       "      <td>0.0</td>\n",
       "      <td>1805</td>\n",
       "      <td>-11.0</td>\n",
       "      <td>0.0</td>\n",
       "      <td>0.0</td>\n",
       "    </tr>\n",
       "  </tbody>\n",
       "</table>\n",
       "</div>"
      ],
      "text/plain": [
       "   Year  Month  DayofMonth  DayOfWeek Carrier  OriginAirportID  DestAirportID  \\\n",
       "0  2013      4          19          5      DL            11433          13303   \n",
       "1  2013      4          19          5      DL            14869          12478   \n",
       "2  2013      4          19          5      DL            14057          14869   \n",
       "3  2013      4          19          5      DL            15016          11433   \n",
       "4  2013      4          19          5      DL            11193          12892   \n",
       "\n",
       "   CRSDepTime  DepDelay  DepDel15  CRSArrTime  ArrDelay  ArrDel15  Cancelled  \n",
       "0         837      -3.0       0.0        1138       1.0       0.0        0.0  \n",
       "1        1705       0.0       0.0        2336      -8.0       0.0        0.0  \n",
       "2         600      -4.0       0.0         851     -15.0       0.0        0.0  \n",
       "3        1630      28.0       1.0        1903      24.0       1.0        0.0  \n",
       "4        1615      -6.0       0.0        1805     -11.0       0.0        0.0  "
      ]
     },
     "execution_count": 2,
     "metadata": {},
     "output_type": "execute_result"
    }
   ],
   "source": [
    "# loading flight delays dataset\n",
    "dfFlight1 = pd.read_csv('FlightDelayData1.csv')\n",
    "print(dfFlight1.shape)\n",
    "dfFlight2 = pd.read_csv('FlightDelayData1.csv')\n",
    "print(dfFlight2.shape)\n",
    "\n",
    "dfFlight = pd.concat([dfFlight1, dfFlight2], axis=0, ignore_index=True)\n",
    "print(dfFlight.shape)\n",
    "dfFlight.head()"
   ]
  },
  {
   "cell_type": "code",
   "execution_count": 3,
   "metadata": {},
   "outputs": [
    {
     "name": "stdout",
     "output_type": "stream",
     "text": [
      "(2719418, 9)\n"
     ]
    },
    {
     "data": {
      "text/html": [
       "<div>\n",
       "<table border=\"1\" class=\"dataframe\">\n",
       "  <thead>\n",
       "    <tr style=\"text-align: right;\">\n",
       "      <th></th>\n",
       "      <th>Month</th>\n",
       "      <th>DayofMonth</th>\n",
       "      <th>DayOfWeek</th>\n",
       "      <th>Carrier</th>\n",
       "      <th>OriginAirportID</th>\n",
       "      <th>DestAirportID</th>\n",
       "      <th>CRSDepTime</th>\n",
       "      <th>CRSArrTime</th>\n",
       "      <th>ArrDelay</th>\n",
       "    </tr>\n",
       "  </thead>\n",
       "  <tbody>\n",
       "    <tr>\n",
       "      <th>0</th>\n",
       "      <td>4</td>\n",
       "      <td>19</td>\n",
       "      <td>5</td>\n",
       "      <td>DL</td>\n",
       "      <td>11433</td>\n",
       "      <td>13303</td>\n",
       "      <td>837</td>\n",
       "      <td>1138</td>\n",
       "      <td>1.0</td>\n",
       "    </tr>\n",
       "    <tr>\n",
       "      <th>1</th>\n",
       "      <td>4</td>\n",
       "      <td>19</td>\n",
       "      <td>5</td>\n",
       "      <td>DL</td>\n",
       "      <td>14869</td>\n",
       "      <td>12478</td>\n",
       "      <td>1705</td>\n",
       "      <td>2336</td>\n",
       "      <td>-8.0</td>\n",
       "    </tr>\n",
       "    <tr>\n",
       "      <th>2</th>\n",
       "      <td>4</td>\n",
       "      <td>19</td>\n",
       "      <td>5</td>\n",
       "      <td>DL</td>\n",
       "      <td>14057</td>\n",
       "      <td>14869</td>\n",
       "      <td>600</td>\n",
       "      <td>851</td>\n",
       "      <td>-15.0</td>\n",
       "    </tr>\n",
       "    <tr>\n",
       "      <th>3</th>\n",
       "      <td>4</td>\n",
       "      <td>19</td>\n",
       "      <td>5</td>\n",
       "      <td>DL</td>\n",
       "      <td>15016</td>\n",
       "      <td>11433</td>\n",
       "      <td>1630</td>\n",
       "      <td>1903</td>\n",
       "      <td>24.0</td>\n",
       "    </tr>\n",
       "    <tr>\n",
       "      <th>4</th>\n",
       "      <td>4</td>\n",
       "      <td>19</td>\n",
       "      <td>5</td>\n",
       "      <td>DL</td>\n",
       "      <td>11193</td>\n",
       "      <td>12892</td>\n",
       "      <td>1615</td>\n",
       "      <td>1805</td>\n",
       "      <td>-11.0</td>\n",
       "    </tr>\n",
       "  </tbody>\n",
       "</table>\n",
       "</div>"
      ],
      "text/plain": [
       "   Month  DayofMonth  DayOfWeek Carrier  OriginAirportID  DestAirportID  \\\n",
       "0      4          19          5      DL            11433          13303   \n",
       "1      4          19          5      DL            14869          12478   \n",
       "2      4          19          5      DL            14057          14869   \n",
       "3      4          19          5      DL            15016          11433   \n",
       "4      4          19          5      DL            11193          12892   \n",
       "\n",
       "   CRSDepTime  CRSArrTime  ArrDelay  \n",
       "0         837        1138       1.0  \n",
       "1        1705        2336      -8.0  \n",
       "2         600         851     -15.0  \n",
       "3        1630        1903      24.0  \n",
       "4        1615        1805     -11.0  "
      ]
     },
     "execution_count": 3,
     "metadata": {},
     "output_type": "execute_result"
    }
   ],
   "source": [
    "# Excluding some dataset columns that are possible target leakers like DepDelay, DepDel15, ArrDel15, Cancelled, Year.\n",
    "dfFlight.drop(['DepDelay', 'DepDel15', 'ArrDel15', 'Cancelled', 'Year'], axis = 1, inplace = True)\n",
    "print(dfFlight.shape)\n",
    "dfFlight.head()"
   ]
  },
  {
   "cell_type": "code",
   "execution_count": 4,
   "metadata": {
    "scrolled": true
   },
   "outputs": [
    {
     "name": "stdout",
     "output_type": "stream",
     "text": [
      "(2719418, 9)\n"
     ]
    },
    {
     "data": {
      "text/plain": [
       "Month                  0\n",
       "DayofMonth             0\n",
       "DayOfWeek              0\n",
       "Carrier                0\n",
       "OriginAirportID        0\n",
       "DestAirportID          0\n",
       "CRSDepTime             0\n",
       "CRSArrTime             0\n",
       "ArrDelay           35848\n",
       "dtype: int64"
      ]
     },
     "execution_count": 4,
     "metadata": {},
     "output_type": "execute_result"
    }
   ],
   "source": [
    "#checks the number of missing values in each column as isnull() \n",
    "print(dfFlight.shape)\n",
    "dfFlight.apply(lambda x: sum(x.isnull()),axis=0) "
   ]
  },
  {
   "cell_type": "markdown",
   "metadata": {},
   "source": [
    "There are about **29,000 rows** missing. This doesn't seem a lot compare to the total flight of over **2.7 million rows** just small percentage of the flights. Therefore, I can avoid to just remove them."
   ]
  },
  {
   "cell_type": "code",
   "execution_count": 5,
   "metadata": {},
   "outputs": [
    {
     "name": "stdout",
     "output_type": "stream",
     "text": [
      "(2683570, 9)\n"
     ]
    }
   ],
   "source": [
    "# Removing rows with missing values    \n",
    "dfFlight = dfFlight[~pd.isnull(dfFlight).any(axis=1)]\n",
    "print(dfFlight.shape)"
   ]
  },
  {
   "cell_type": "code",
   "execution_count": 6,
   "metadata": {
    "scrolled": true
   },
   "outputs": [
    {
     "data": {
      "text/html": [
       "<div>\n",
       "<table border=\"1\" class=\"dataframe\">\n",
       "  <thead>\n",
       "    <tr style=\"text-align: right;\">\n",
       "      <th></th>\n",
       "      <th>Month</th>\n",
       "      <th>DayofMonth</th>\n",
       "      <th>DayOfWeek</th>\n",
       "      <th>OriginAirportID</th>\n",
       "      <th>DestAirportID</th>\n",
       "      <th>CRSDepTime</th>\n",
       "      <th>CRSArrTime</th>\n",
       "      <th>ArrDelay</th>\n",
       "    </tr>\n",
       "  </thead>\n",
       "  <tbody>\n",
       "    <tr>\n",
       "      <th>count</th>\n",
       "      <td>2.683570e+06</td>\n",
       "      <td>2.683570e+06</td>\n",
       "      <td>2.683570e+06</td>\n",
       "      <td>2.683570e+06</td>\n",
       "      <td>2.683570e+06</td>\n",
       "      <td>2.683570e+06</td>\n",
       "      <td>2.683570e+06</td>\n",
       "      <td>2.683570e+06</td>\n",
       "    </tr>\n",
       "    <tr>\n",
       "      <th>mean</th>\n",
       "      <td>5.286701e+00</td>\n",
       "      <td>1.573263e+01</td>\n",
       "      <td>3.906849e+00</td>\n",
       "      <td>1.271346e+04</td>\n",
       "      <td>1.271336e+04</td>\n",
       "      <td>1.328043e+03</td>\n",
       "      <td>1.503740e+03</td>\n",
       "      <td>9.039295e+00</td>\n",
       "    </tr>\n",
       "    <tr>\n",
       "      <th>std</th>\n",
       "      <td>1.024523e+00</td>\n",
       "      <td>8.772085e+00</td>\n",
       "      <td>1.994040e+00</td>\n",
       "      <td>1.506294e+03</td>\n",
       "      <td>1.506417e+03</td>\n",
       "      <td>4.759180e+02</td>\n",
       "      <td>5.002873e+02</td>\n",
       "      <td>4.250846e+01</td>\n",
       "    </tr>\n",
       "    <tr>\n",
       "      <th>min</th>\n",
       "      <td>4.000000e+00</td>\n",
       "      <td>1.000000e+00</td>\n",
       "      <td>1.000000e+00</td>\n",
       "      <td>1.014000e+04</td>\n",
       "      <td>1.014000e+04</td>\n",
       "      <td>5.000000e+00</td>\n",
       "      <td>1.000000e+00</td>\n",
       "      <td>-9.400000e+01</td>\n",
       "    </tr>\n",
       "    <tr>\n",
       "      <th>25%</th>\n",
       "      <td>4.000000e+00</td>\n",
       "      <td>8.000000e+00</td>\n",
       "      <td>2.000000e+00</td>\n",
       "      <td>1.129200e+04</td>\n",
       "      <td>1.129200e+04</td>\n",
       "      <td>9.190000e+02</td>\n",
       "      <td>1.115000e+03</td>\n",
       "      <td>-1.100000e+01</td>\n",
       "    </tr>\n",
       "    <tr>\n",
       "      <th>50%</th>\n",
       "      <td>5.000000e+00</td>\n",
       "      <td>1.600000e+01</td>\n",
       "      <td>4.000000e+00</td>\n",
       "      <td>1.289200e+04</td>\n",
       "      <td>1.289200e+04</td>\n",
       "      <td>1.320000e+03</td>\n",
       "      <td>1.525000e+03</td>\n",
       "      <td>-2.000000e+00</td>\n",
       "    </tr>\n",
       "    <tr>\n",
       "      <th>75%</th>\n",
       "      <td>6.000000e+00</td>\n",
       "      <td>2.300000e+01</td>\n",
       "      <td>6.000000e+00</td>\n",
       "      <td>1.405700e+04</td>\n",
       "      <td>1.405700e+04</td>\n",
       "      <td>1.725000e+03</td>\n",
       "      <td>1.920000e+03</td>\n",
       "      <td>1.200000e+01</td>\n",
       "    </tr>\n",
       "    <tr>\n",
       "      <th>max</th>\n",
       "      <td>7.000000e+00</td>\n",
       "      <td>3.100000e+01</td>\n",
       "      <td>7.000000e+00</td>\n",
       "      <td>1.537600e+04</td>\n",
       "      <td>1.537600e+04</td>\n",
       "      <td>2.359000e+03</td>\n",
       "      <td>2.359000e+03</td>\n",
       "      <td>1.845000e+03</td>\n",
       "    </tr>\n",
       "  </tbody>\n",
       "</table>\n",
       "</div>"
      ],
      "text/plain": [
       "              Month    DayofMonth     DayOfWeek  OriginAirportID  \\\n",
       "count  2.683570e+06  2.683570e+06  2.683570e+06     2.683570e+06   \n",
       "mean   5.286701e+00  1.573263e+01  3.906849e+00     1.271346e+04   \n",
       "std    1.024523e+00  8.772085e+00  1.994040e+00     1.506294e+03   \n",
       "min    4.000000e+00  1.000000e+00  1.000000e+00     1.014000e+04   \n",
       "25%    4.000000e+00  8.000000e+00  2.000000e+00     1.129200e+04   \n",
       "50%    5.000000e+00  1.600000e+01  4.000000e+00     1.289200e+04   \n",
       "75%    6.000000e+00  2.300000e+01  6.000000e+00     1.405700e+04   \n",
       "max    7.000000e+00  3.100000e+01  7.000000e+00     1.537600e+04   \n",
       "\n",
       "       DestAirportID    CRSDepTime    CRSArrTime      ArrDelay  \n",
       "count   2.683570e+06  2.683570e+06  2.683570e+06  2.683570e+06  \n",
       "mean    1.271336e+04  1.328043e+03  1.503740e+03  9.039295e+00  \n",
       "std     1.506417e+03  4.759180e+02  5.002873e+02  4.250846e+01  \n",
       "min     1.014000e+04  5.000000e+00  1.000000e+00 -9.400000e+01  \n",
       "25%     1.129200e+04  9.190000e+02  1.115000e+03 -1.100000e+01  \n",
       "50%     1.289200e+04  1.320000e+03  1.525000e+03 -2.000000e+00  \n",
       "75%     1.405700e+04  1.725000e+03  1.920000e+03  1.200000e+01  \n",
       "max     1.537600e+04  2.359000e+03  2.359000e+03  1.845000e+03  "
      ]
     },
     "execution_count": 6,
     "metadata": {},
     "output_type": "execute_result"
    }
   ],
   "source": [
    "dfFlight.describe()"
   ]
  },
  {
   "cell_type": "code",
   "execution_count": null,
   "metadata": {
    "collapsed": true
   },
   "outputs": [],
   "source": []
  },
  {
   "cell_type": "code",
   "execution_count": null,
   "metadata": {
    "collapsed": true
   },
   "outputs": [],
   "source": []
  },
  {
   "cell_type": "markdown",
   "metadata": {},
   "source": [
    "### Reading airport codes from the airport dataset."
   ]
  },
  {
   "cell_type": "code",
   "execution_count": 7,
   "metadata": {
    "scrolled": true
   },
   "outputs": [
    {
     "name": "stdout",
     "output_type": "stream",
     "text": [
      "(365, 4)\n"
     ]
    },
    {
     "data": {
      "text/html": [
       "<div>\n",
       "<table border=\"1\" class=\"dataframe\">\n",
       "  <thead>\n",
       "    <tr style=\"text-align: right;\">\n",
       "      <th></th>\n",
       "      <th>airport_id</th>\n",
       "      <th>city</th>\n",
       "      <th>state</th>\n",
       "      <th>name</th>\n",
       "    </tr>\n",
       "  </thead>\n",
       "  <tbody>\n",
       "    <tr>\n",
       "      <th>0</th>\n",
       "      <td>10165</td>\n",
       "      <td>Adak Island</td>\n",
       "      <td>AK</td>\n",
       "      <td>Adak</td>\n",
       "    </tr>\n",
       "    <tr>\n",
       "      <th>1</th>\n",
       "      <td>10299</td>\n",
       "      <td>Anchorage</td>\n",
       "      <td>AK</td>\n",
       "      <td>Ted Stevens Anchorage International</td>\n",
       "    </tr>\n",
       "    <tr>\n",
       "      <th>2</th>\n",
       "      <td>10304</td>\n",
       "      <td>Aniak</td>\n",
       "      <td>AK</td>\n",
       "      <td>Aniak Airport</td>\n",
       "    </tr>\n",
       "    <tr>\n",
       "      <th>3</th>\n",
       "      <td>10754</td>\n",
       "      <td>Barrow</td>\n",
       "      <td>AK</td>\n",
       "      <td>Wiley Post/Will Rogers Memorial</td>\n",
       "    </tr>\n",
       "    <tr>\n",
       "      <th>4</th>\n",
       "      <td>10551</td>\n",
       "      <td>Bethel</td>\n",
       "      <td>AK</td>\n",
       "      <td>Bethel Airport</td>\n",
       "    </tr>\n",
       "  </tbody>\n",
       "</table>\n",
       "</div>"
      ],
      "text/plain": [
       "   airport_id         city state                                  name\n",
       "0       10165  Adak Island    AK                                  Adak\n",
       "1       10299    Anchorage    AK   Ted Stevens Anchorage International\n",
       "2       10304        Aniak    AK                         Aniak Airport\n",
       "3       10754       Barrow    AK       Wiley Post/Will Rogers Memorial\n",
       "4       10551       Bethel    AK                        Bethel Airport"
      ]
     },
     "execution_count": 7,
     "metadata": {},
     "output_type": "execute_result"
    }
   ],
   "source": [
    "dfAirport = pd.read_csv(\"Airport Codes Dataset.csv\")\n",
    "print(dfAirport.shape)\n",
    "dfAirport.head()"
   ]
  },
  {
   "cell_type": "code",
   "execution_count": null,
   "metadata": {
    "collapsed": true
   },
   "outputs": [],
   "source": []
  },
  {
   "cell_type": "markdown",
   "metadata": {},
   "source": [
    "#### The next few blocks of code  find the busiest routes and arrange them in order of their traffics or how busy they are."
   ]
  },
  {
   "cell_type": "code",
   "execution_count": 8,
   "metadata": {
    "scrolled": true
   },
   "outputs": [
    {
     "name": "stdout",
     "output_type": "stream",
     "text": [
      "(2489, 5)\n"
     ]
    },
    {
     "data": {
      "text/html": [
       "<div>\n",
       "<table border=\"1\" class=\"dataframe\">\n",
       "  <thead>\n",
       "    <tr style=\"text-align: right;\">\n",
       "      <th></th>\n",
       "      <th>OrigAirportID</th>\n",
       "      <th>OrigAirportName</th>\n",
       "      <th>DestAirportID</th>\n",
       "      <th>DestAirportName</th>\n",
       "      <th>RouteFreq</th>\n",
       "    </tr>\n",
       "  </thead>\n",
       "  <tbody>\n",
       "    <tr>\n",
       "      <th>0</th>\n",
       "      <td>14771</td>\n",
       "      <td>San Francisco International, San Francisco,  CA</td>\n",
       "      <td>12892</td>\n",
       "      <td>Los Angeles International, Los Angeles,  CA</td>\n",
       "      <td>8830</td>\n",
       "    </tr>\n",
       "    <tr>\n",
       "      <th>1</th>\n",
       "      <td>12892</td>\n",
       "      <td>Los Angeles International, Los Angeles,  CA</td>\n",
       "      <td>14771</td>\n",
       "      <td>San Francisco International, San Francisco,  CA</td>\n",
       "      <td>8746</td>\n",
       "    </tr>\n",
       "    <tr>\n",
       "      <th>2</th>\n",
       "      <td>13830</td>\n",
       "      <td>Kahului Airport, Kahului,  HI</td>\n",
       "      <td>12173</td>\n",
       "      <td>Honolulu International, Honolulu,  HI</td>\n",
       "      <td>7688</td>\n",
       "    </tr>\n",
       "    <tr>\n",
       "      <th>3</th>\n",
       "      <td>12173</td>\n",
       "      <td>Honolulu International, Honolulu,  HI</td>\n",
       "      <td>13830</td>\n",
       "      <td>Kahului Airport, Kahului,  HI</td>\n",
       "      <td>7578</td>\n",
       "    </tr>\n",
       "    <tr>\n",
       "      <th>4</th>\n",
       "      <td>12478</td>\n",
       "      <td>John F. Kennedy International, New York,  NY</td>\n",
       "      <td>12892</td>\n",
       "      <td>Los Angeles International, Los Angeles,  CA</td>\n",
       "      <td>6934</td>\n",
       "    </tr>\n",
       "  </tbody>\n",
       "</table>\n",
       "</div>"
      ],
      "text/plain": [
       "   OrigAirportID                                  OrigAirportName  \\\n",
       "0          14771  San Francisco International, San Francisco,  CA   \n",
       "1          12892      Los Angeles International, Los Angeles,  CA   \n",
       "2          13830                    Kahului Airport, Kahului,  HI   \n",
       "3          12173            Honolulu International, Honolulu,  HI   \n",
       "4          12478     John F. Kennedy International, New York,  NY   \n",
       "\n",
       "   DestAirportID                                  DestAirportName  RouteFreq  \n",
       "0          12892      Los Angeles International, Los Angeles,  CA       8830  \n",
       "1          14771  San Francisco International, San Francisco,  CA       8746  \n",
       "2          12173            Honolulu International, Honolulu,  HI       7688  \n",
       "3          13830                    Kahului Airport, Kahului,  HI       7578  \n",
       "4          12892      Los Angeles International, Los Angeles,  CA       6934  "
      ]
     },
     "execution_count": 8,
     "metadata": {},
     "output_type": "execute_result"
    }
   ],
   "source": [
    "def AirportDescx(Idx):    \n",
    "    descx = dfAirport.loc[dfAirport.airport_id == Idx]\n",
    "    return (descx.name + \", \" + descx.city + \", \" + descx.state).to_string(index=False).lstrip()\n",
    "\n",
    "lsOrig = dfFlight.OriginAirportID.unique().tolist()\n",
    "lsDest = dfFlight.DestAirportID.unique().tolist()\n",
    "\n",
    "lsRouteOr = []\n",
    "lsRouteDe = []\n",
    "lsRouteOrName = []\n",
    "lsRouteDeName = []\n",
    "lsRouteFq = []\n",
    "for idOr in lsOrig:\n",
    "    for idDe in lsDest:        \n",
    "        if idOr != idDe: \n",
    "            Freq = dfFlight.loc[(dfFlight['OriginAirportID'] == idOr) & (dfFlight['DestAirportID'] == idDe)].shape[0]\n",
    "            if Freq > 0:\n",
    "                lsRouteOr.append(idOr), lsRouteOrName.append(AirportDescx(idOr))\n",
    "                lsRouteDe.append(idDe), lsRouteDeName.append(AirportDescx(idDe))\n",
    "                lsRouteFq.append(Freq)\n",
    "                \n",
    "# Create dataframe\n",
    "Route = {'OrigAirportID': lsRouteOr, 'OrigAirportName': lsRouteOrName, 'DestAirportID': lsRouteDe, 'DestAirportName': lsRouteDeName, 'RouteFreq': lsRouteFq}\n",
    "dfRoute = pd.DataFrame(Route, columns = ['OrigAirportID', 'OrigAirportName', 'DestAirportID', 'DestAirportName', 'RouteFreq'])\n",
    "dfRoute = dfRoute.sort_values(by='RouteFreq', ascending=False)\n",
    "dfRoute = dfRoute.reset_index(drop=True)\n",
    "\n",
    "print(dfRoute.shape)\n",
    "dfRoute.head()\n"
   ]
  },
  {
   "cell_type": "markdown",
   "metadata": {},
   "source": [
    "#### The busiest route seems to be between the cities of San Francisco and Los Angeles in California. "
   ]
  },
  {
   "cell_type": "code",
   "execution_count": 9,
   "metadata": {
    "collapsed": true,
    "scrolled": true
   },
   "outputs": [],
   "source": [
    "def dfRouteFtn(dfRoute10, itrMax = 10):\n",
    "    lsOrDe = []\n",
    "    lsOr_De = []\n",
    "    lsDir = []\n",
    "    lsRouteFq = []\n",
    "    itr =  0\n",
    "    for OrId, DeId, Freqx in zip(dfRoute10['OrigAirportID'], dfRoute10['DestAirportID'], dfRoute10['RouteFreq']):\n",
    "        Freqy = dfRoute10.loc[(dfRoute10['OrigAirportID'] == DeId) & (dfRoute10['DestAirportID'] == OrId)].RouteFreq.to_string(index=False)        \n",
    "        if (str(OrId) + \"_\" + str(DeId)) not in lsOrDe and Freqy.isnumeric():\n",
    "            lsOr_De.append(str(OrId) + \"_\" + str(DeId)), lsRouteFq.append(Freqx), lsDir.append(\"Or_De\")\n",
    "            lsOr_De.append(str(OrId) + \"_\" + str(DeId)), lsRouteFq.append(Freqy), lsDir.append(\"De_Or\")\n",
    "            lsOrDe.append(str(DeId) + \"_\" + str(OrId))\n",
    "            itr += 1\n",
    "            if itr == itrMax: break\n",
    "    \n",
    "    # Create dataframe\n",
    "    Routx = {'Origin_Destination': lsOr_De,'RouteFreq': lsRouteFq, 'RouteDirection':lsDir }\n",
    "    dfRoutx = pd.DataFrame(Routx, columns = ['Origin_Destination','RouteFreq', 'RouteDirection'])\n",
    "    return dfRoutx"
   ]
  },
  {
   "cell_type": "code",
   "execution_count": 10,
   "metadata": {
    "scrolled": false
   },
   "outputs": [
    {
     "data": {
      "image/png": "[encoded data removed]",
      "text/plain": [
       "<matplotlib.figure.Figure at 0x1fa3c667630>"
      ]
     },
     "metadata": {},
     "output_type": "display_data"
    }
   ],
   "source": [
    "data = dfRouteFtn(dfRoute)\n",
    "data.RouteFreq = pd.to_numeric(data.RouteFreq, errors='coerce')\n",
    "BarRects = sns.barplot(x=data.Origin_Destination, y=data.RouteFreq, palette=sns.color_palette(flatui),ci=None, hue=data.RouteDirection)\n",
    "\n",
    "plt.xticks(rotation=60) #BarPlotInd+.5, BarLabels)\n",
    "plt.xlabel('Origin-Destination Airport Id')\n",
    "plt.ylabel('Route Flight Frequency')\n",
    "#plt.ylim([0,1])\n",
    "plt.title('Ten Busiet Flight Routes in US in April-October 2013')\n",
    "\n",
    "plt.show()"
   ]
  },
  {
   "cell_type": "code",
   "execution_count": null,
   "metadata": {
    "collapsed": true
   },
   "outputs": [],
   "source": []
  },
  {
   "cell_type": "code",
   "execution_count": 11,
   "metadata": {},
   "outputs": [
    {
     "data": {
      "image/png": "[encoded data removed]",
      "text/plain": [
       "<matplotlib.figure.Figure at 0x1fa0996a320>"
      ]
     },
     "metadata": {},
     "output_type": "display_data"
    }
   ],
   "source": [
    "# This function gives the airport ID of the busiest airport in a particular city.\n",
    "def MaxFreqAirportId(city):\n",
    "    Max = 0\n",
    "    AirportId = 0\n",
    "    for idx in dfAirport.loc[(dfAirport['city'] == city)].airport_id.tolist():\n",
    "        df1 = dfFlight.loc[(dfFlight['OriginAirportID'] == idx)]\n",
    "        if df1.shape[0] > Max: AirportId = idx\n",
    "    return AirportId\n",
    "\n",
    "# This function depicts the reationsship between the busiest airports in two different cities.\n",
    "def FlightRoutePlot(DepAirportCity, ArrAirportCity, dfx, xFea, yFea):# Departure and arrival airport cities and the feature of interest     \n",
    "    selFea = ['Month', 'DayofMonth', 'DayOfWeek', 'Carrier', 'ArrDelay']\n",
    "    dfx2 = dfx.loc[(dfx['OriginAirportID'] == MaxFreqAirportId(DepAirportCity)) & (dfx['DestAirportID'] == MaxFreqAirportId(ArrAirportCity)), selFea]# Only get flights for our flight route    \n",
    "    \n",
    "    # For flights that arrived earlier than scheduled time (i.e. with negative delay time) are converted to zero \n",
    "    # since we are only after delay time.\n",
    "    dfx2['ArrDelay'] = [0 if x < 0 else x for x in dfx2['ArrDelay']]    \n",
    "    \n",
    "    # Add a column for days\n",
    "    dfx2['Days'] = ['Mon' if x in [1] else\n",
    "                                 ('Tues' if x in [2] else \n",
    "                                 ('Wed' if x in [3] else\n",
    "                                 ('Thurs' if x in [4] else\n",
    "                                 ('Fri' if x in [5] else \n",
    "                                 ('Sat' if x in [6] else\n",
    "                                 'Sun' ))))) for x in dfx2['DayOfWeek']] \n",
    "\n",
    "    # Add a column for months\n",
    "    dfx2['Months'] = ['Jan' if x in [1] else\n",
    "                                 ('Feb' if x in [2] else \n",
    "                                 ('Mar' if x in [3] else\n",
    "                                 ('Apr' if x in [4] else\n",
    "                                 ('May' if x in [5] else \n",
    "                                 ('Jun' if x in [6] else\n",
    "                                 ('Jul' if x in [7] else\n",
    "                                 ('Aug' if x in [8] else \n",
    "                                 ('Sep' if x in [9] else\n",
    "                                 ('Oct' if x in [10] else\n",
    "                                 ('Nov' if x in [11] else \n",
    "                                 'Dec' )))))))))) for x in dfx2['Month']] \n",
    "    \n",
    "    BarRects = sns.barplot(x=dfx2[xFea], y=dfx2[yFea], palette=sns.color_palette(flatui),ci=None, estimator=np.mean)\n",
    "\n",
    "    plt.xticks(rotation=60) \n",
    "    plt.xlabel(xFea)\n",
    "    plt.ylabel('Route Flight Frequency')\n",
    "    plt.title('Flights from ' + str(DepAirportCity) + ' to ' + str(ArrAirportCity))\n",
    "    plt.show()\n",
    "                                                                                       \n",
    "FlightRoutePlot(\"San Francisco\", \"Los Angeles\", dfFlight, 'Carrier', 'ArrDelay')"
   ]
  },
  {
   "cell_type": "code",
   "execution_count": 12,
   "metadata": {
    "scrolled": false
   },
   "outputs": [
    {
     "data": {
      "image/png": "[encoded data removed]",
      "text/plain": [
       "<matplotlib.figure.Figure at 0x1fa093495c0>"
      ]
     },
     "metadata": {},
     "output_type": "display_data"
    }
   ],
   "source": [
    "#Year, Month, DayofMonth, DayOfWeek, Carrier  --   DepDelay,  ArrDelay                                                                                     \n",
    "FlightRoutePlot(\"San Francisco\", \"Los Angeles\", dfFlight, 'Days', 'ArrDelay')"
   ]
  },
  {
   "cell_type": "markdown",
   "metadata": {},
   "source": [
    "#### We can see that Saturday is the best days to fly if you want to be on time, with Sunday being the worst."
   ]
  },
  {
   "cell_type": "code",
   "execution_count": 13,
   "metadata": {},
   "outputs": [
    {
     "data": {
      "image/png": "[encoded data removed]",
      "text/plain": [
       "<matplotlib.figure.Figure at 0x1fa09403390>"
      ]
     },
     "metadata": {},
     "output_type": "display_data"
    }
   ],
   "source": [
    "FlightRoutePlot(\"San Francisco\", \"Los Angeles\", dfFlight, 'Months', 'ArrDelay')"
   ]
  },
  {
   "cell_type": "markdown",
   "metadata": {},
   "source": [
    "#### June and July seems to be the worst month for this route. The best month seems to be October."
   ]
  },
  {
   "cell_type": "code",
   "execution_count": null,
   "metadata": {
    "collapsed": true
   },
   "outputs": [],
   "source": []
  },
  {
   "cell_type": "markdown",
   "metadata": {
    "collapsed": true
   },
   "source": [
    "## Model prediction\n",
    "As earlier stated in the introduction, XGBoost regreessor will be used to predict flight delay time in minutes."
   ]
  },
  {
   "cell_type": "code",
   "execution_count": 14,
   "metadata": {
    "collapsed": true
   },
   "outputs": [],
   "source": [
    "#import model libraries\n",
    "import scipy.stats as st\n",
    "from xgboost.sklearn import XGBRegressor\n",
    "from sklearn.preprocessing import StandardScaler \n",
    "from sklearn.model_selection import train_test_split, RandomizedSearchCV\n",
    "from sklearn.metrics import mean_absolute_error\n",
    "#Import module for saving scikit-learn models - Joblib is an alternative to Python's pickle package\n",
    "from sklearn.externals import joblib"
   ]
  },
  {
   "cell_type": "code",
   "execution_count": 15,
   "metadata": {},
   "outputs": [
    {
     "data": {
      "text/html": [
       "<div>\n",
       "<table border=\"1\" class=\"dataframe\">\n",
       "  <thead>\n",
       "    <tr style=\"text-align: right;\">\n",
       "      <th></th>\n",
       "      <th>Month</th>\n",
       "      <th>DayofMonth</th>\n",
       "      <th>DayOfWeek</th>\n",
       "      <th>Carrier</th>\n",
       "      <th>OriginAirportID</th>\n",
       "      <th>DestAirportID</th>\n",
       "      <th>CRSDepTime</th>\n",
       "      <th>CRSArrTime</th>\n",
       "      <th>ArrDelay</th>\n",
       "    </tr>\n",
       "  </thead>\n",
       "  <tbody>\n",
       "    <tr>\n",
       "      <th>0</th>\n",
       "      <td>4</td>\n",
       "      <td>19</td>\n",
       "      <td>5</td>\n",
       "      <td>DL</td>\n",
       "      <td>11433</td>\n",
       "      <td>13303</td>\n",
       "      <td>837</td>\n",
       "      <td>1138</td>\n",
       "      <td>1.0</td>\n",
       "    </tr>\n",
       "    <tr>\n",
       "      <th>1</th>\n",
       "      <td>4</td>\n",
       "      <td>19</td>\n",
       "      <td>5</td>\n",
       "      <td>DL</td>\n",
       "      <td>14869</td>\n",
       "      <td>12478</td>\n",
       "      <td>1705</td>\n",
       "      <td>2336</td>\n",
       "      <td>-8.0</td>\n",
       "    </tr>\n",
       "    <tr>\n",
       "      <th>2</th>\n",
       "      <td>4</td>\n",
       "      <td>19</td>\n",
       "      <td>5</td>\n",
       "      <td>DL</td>\n",
       "      <td>14057</td>\n",
       "      <td>14869</td>\n",
       "      <td>600</td>\n",
       "      <td>851</td>\n",
       "      <td>-15.0</td>\n",
       "    </tr>\n",
       "    <tr>\n",
       "      <th>3</th>\n",
       "      <td>4</td>\n",
       "      <td>19</td>\n",
       "      <td>5</td>\n",
       "      <td>DL</td>\n",
       "      <td>15016</td>\n",
       "      <td>11433</td>\n",
       "      <td>1630</td>\n",
       "      <td>1903</td>\n",
       "      <td>24.0</td>\n",
       "    </tr>\n",
       "    <tr>\n",
       "      <th>4</th>\n",
       "      <td>4</td>\n",
       "      <td>19</td>\n",
       "      <td>5</td>\n",
       "      <td>DL</td>\n",
       "      <td>11193</td>\n",
       "      <td>12892</td>\n",
       "      <td>1615</td>\n",
       "      <td>1805</td>\n",
       "      <td>-11.0</td>\n",
       "    </tr>\n",
       "  </tbody>\n",
       "</table>\n",
       "</div>"
      ],
      "text/plain": [
       "   Month  DayofMonth  DayOfWeek Carrier  OriginAirportID  DestAirportID  \\\n",
       "0      4          19          5      DL            11433          13303   \n",
       "1      4          19          5      DL            14869          12478   \n",
       "2      4          19          5      DL            14057          14869   \n",
       "3      4          19          5      DL            15016          11433   \n",
       "4      4          19          5      DL            11193          12892   \n",
       "\n",
       "   CRSDepTime  CRSArrTime  ArrDelay  \n",
       "0         837        1138       1.0  \n",
       "1        1705        2336      -8.0  \n",
       "2         600         851     -15.0  \n",
       "3        1630        1903      24.0  \n",
       "4        1615        1805     -11.0  "
      ]
     },
     "execution_count": 15,
     "metadata": {},
     "output_type": "execute_result"
    }
   ],
   "source": [
    "dfFlight.head()"
   ]
  },
  {
   "cell_type": "code",
   "execution_count": 16,
   "metadata": {
    "collapsed": true
   },
   "outputs": [],
   "source": [
    "Y = dfFlight.ArrDelay\n",
    "X = dfFlight.drop(['ArrDelay'], axis=1)"
   ]
  },
  {
   "cell_type": "markdown",
   "metadata": {},
   "source": [
    "## Applying Ordinal Encoding to Categoricals\n",
    "We need to convert some features into categorical group to make processing simpler. The columns OriginAirportID and DestAirportID represent categorical features. However, because they are integers, they are initially parsed as continuous numbers. It is also required to encode features like Carrier with a string category since XGBoost (like all of the other machine learning algorithms in Python) requires every feature vector to include only digits. "
   ]
  },
  {
   "cell_type": "code",
   "execution_count": 17,
   "metadata": {},
   "outputs": [],
   "source": [
    "CategLs = ['Month', 'DayofMonth', 'DayOfWeek', 'Carrier', 'OriginAirportID', 'DestAirportID', 'CRSDepTime', 'CRSArrTime'] # Categorical features\n",
    "for fea in X[CategLs]: # Loop through all columns in the dataframe\n",
    "    X[fea] = pd.Categorical(X[fea]).codes # Convert to categorical features\n",
    "\n",
    "#Split data into train and test sets\n",
    "X_train, X_test, Y_train, Y_test = train_test_split(X, Y, test_size=0.2, random_state=123)\n",
    "    "
   ]
  },
  {
   "cell_type": "code",
   "execution_count": 18,
   "metadata": {},
   "outputs": [
    {
     "name": "stdout",
     "output_type": "stream",
     "text": [
      "MAE: 16.4158\n"
     ]
    }
   ],
   "source": [
    "one_to_left = st.beta(10, 1)  \n",
    "from_zero_positive = st.expon(0, 50)\n",
    "\n",
    "params = {  \n",
    "    \"n_estimators\": st.randint(3, 40),\n",
    "    \"max_depth\": st.randint(3, 40),\n",
    "    \"learning_rate\": st.uniform(0.05, 0.4),\n",
    "    \"colsample_bytree\": one_to_left,\n",
    "    \"subsample\": one_to_left,\n",
    "    \"gamma\": st.uniform(0, 10),\n",
    "    'reg_alpha': from_zero_positive,\n",
    "    \"min_child_weight\": from_zero_positive\n",
    "}\n",
    "\n",
    "xgbreg = XGBRegressor(nthread=-1)\n",
    "rsCV = RandomizedSearchCV(xgbreg, params, n_jobs=1)  \n",
    "rsCV.fit(X_train, Y_train)\n",
    "rsCV.best_params_, rsCV.best_score_\n",
    "\n",
    "clf = XGBRegressor(**rsCV.best_params_)\n",
    "clf.fit(X_train, Y_train)\n",
    "\n",
    "print(\"MAE: %.4f\" % mean_absolute_error(Y_test, clf.predict(X_test)))"
   ]
  },
  {
   "cell_type": "code",
   "execution_count": null,
   "metadata": {
    "collapsed": true
   },
   "outputs": [],
   "source": []
  },
  {
   "cell_type": "markdown",
   "metadata": {},
   "source": [
    "## Conclusion\n",
    "The model prediction with a mean absolute error of about 16 minutes isn’t a great performance, but it may be the best I can go, given the limitations of the data. \n",
    "\n",
    "#### Possible Ideas for Improvement:\n",
    "Adding weather forecast data into the model."
   ]
  },
  {
   "cell_type": "code",
   "execution_count": null,
   "metadata": {
    "collapsed": true
   },
   "outputs": [],
   "source": []
  }
 ],
 "metadata": {
  "anaconda-cloud": {},
  "kernelspec": {
   "display_name": "Python [default]",
   "language": "python",
   "name": "python3"
  },
  "language_info": {
   "codemirror_mode": {
    "name": "ipython",
    "version": 3
   },
   "file_extension": ".py",
   "mimetype": "text/x-python",
   "name": "python",
   "nbconvert_exporter": "python",
   "pygments_lexer": "ipython3",
   "version": "3.5.2"
  }
 },
 "nbformat": 4,
 "nbformat_minor": 2
}
